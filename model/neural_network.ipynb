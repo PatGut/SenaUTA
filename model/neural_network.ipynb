{
 "cells": [
  {
   "cell_type": "code",
   "execution_count": 97,
   "metadata": {},
   "outputs": [],
   "source": [
    "import cv2 as cv\n",
    "import mediapipe as mp\n",
    "import pandas as pd\n",
    "import sys\n",
    "from collections import deque"
   ]
  },
  {
   "cell_type": "code",
   "execution_count": 98,
   "metadata": {},
   "outputs": [],
   "source": [
    "sys.path.insert(0, '../')"
   ]
  },
  {
   "cell_type": "code",
   "execution_count": 99,
   "metadata": {},
   "outputs": [],
   "source": [
    "mp_hands = mp.solutions.hands\n",
    "\n",
    "hands = mp_hands.Hands(static_image_mode = True,\n",
    "    max_num_hands = 1,\n",
    "    min_detection_confidence = 0.7,\n",
    "    min_tracking_confidence = 0.5\n",
    ")"
   ]
  },
  {
   "cell_type": "code",
   "execution_count": 100,
   "metadata": {},
   "outputs": [],
   "source": [
    "train_hands = pd.read_csv(filepath_or_buffer='_classes_train.csv',sep = ',')\n",
    "test_hands = pd.read_csv(filepath_or_buffer='_classes_test.csv',sep = ',')\n",
    "valid_hands = pd.read_csv(filepath_or_buffer='_classes_valid.csv',sep = ',')\n",
    "train_hands = train_hands.reset_index()\n",
    "test_hands = test_hands.reset_index()\n",
    "valid_hands = valid_hands.reset_index()\n"
   ]
  },
  {
   "cell_type": "code",
   "execution_count": 101,
   "metadata": {},
   "outputs": [],
   "source": [
    "from utils import landmark\n",
    "\n",
    "def obtain_landmarks(folder,list_hands):\n",
    "    df_result = pd.DataFrame()\n",
    "    for index, row in list_hands.iterrows():\n",
    "        image = cv.imread('./{}/{}'.format(folder,row['filename']))\n",
    "        image = cv.cvtColor(image, cv.COLOR_BGR2RGB)\n",
    "        image.flags.writeable = False\n",
    "        results = hands.process(image)\n",
    "        image.flags.writeable = True\n",
    "        if results.multi_hand_landmarks is not None:\n",
    "            for hand_landmarks,handness in zip(results.multi_hand_landmarks,\n",
    "                                                results.multi_handedness):\n",
    "                # Calcular Landmarks\n",
    "                landmark_list = landmark.calc_landmark_list(image, hand_landmarks)\n",
    "                #Convertir a cordenadas relativas / normalizada\n",
    "                pre_processed_landmark_list = landmark.pre_process_landmark(\n",
    "                    landmark_list)\n",
    "                data_result =  list(row[2:]) + list(pre_processed_landmark_list)\n",
    "                df_result = pd.concat([df_result, pd.DataFrame([data_result])], ignore_index=True)\n",
    "               \n",
    "\n",
    "    return df_result, pre_processed_landmark_list\n",
    "\n"
   ]
  },
  {
   "cell_type": "code",
   "execution_count": 102,
   "metadata": {},
   "outputs": [
    {
     "ename": "KeyboardInterrupt",
     "evalue": "",
     "output_type": "error",
     "traceback": [
      "\u001b[1;31m---------------------------------------------------------------------------\u001b[0m",
      "\u001b[1;31mKeyboardInterrupt\u001b[0m                         Traceback (most recent call last)",
      "\u001b[1;32mc:\\Users\\katia\\Downloads\\matching\\model\\neural_network.ipynb Cell 6\u001b[0m line \u001b[0;36m1\n\u001b[1;32m----> <a href='vscode-notebook-cell:/c%3A/Users/katia/Downloads/matching/model/neural_network.ipynb#W5sZmlsZQ%3D%3D?line=0'>1</a>\u001b[0m training_df,pre_process_landmark_train \u001b[39m=\u001b[39m obtain_landmarks(\u001b[39m'\u001b[39;49m\u001b[39mtrain_data\u001b[39;49m\u001b[39m'\u001b[39;49m, train_hands)\n\u001b[0;32m      <a href='vscode-notebook-cell:/c%3A/Users/katia/Downloads/matching/model/neural_network.ipynb#W5sZmlsZQ%3D%3D?line=1'>2</a>\u001b[0m test_df, pre_process_landmark_test \u001b[39m=\u001b[39m obtain_landmarks(\u001b[39m'\u001b[39m\u001b[39mtest_data\u001b[39m\u001b[39m'\u001b[39m, test_hands)\n\u001b[0;32m      <a href='vscode-notebook-cell:/c%3A/Users/katia/Downloads/matching/model/neural_network.ipynb#W5sZmlsZQ%3D%3D?line=2'>3</a>\u001b[0m valid_df, pre_process_landmark_valid \u001b[39m=\u001b[39m obtain_landmarks(\u001b[39m'\u001b[39m\u001b[39mvalid_data\u001b[39m\u001b[39m'\u001b[39m, valid_hands)\n",
      "\u001b[1;32mc:\\Users\\katia\\Downloads\\matching\\model\\neural_network.ipynb Cell 6\u001b[0m line \u001b[0;36m9\n\u001b[0;32m      <a href='vscode-notebook-cell:/c%3A/Users/katia/Downloads/matching/model/neural_network.ipynb#W5sZmlsZQ%3D%3D?line=6'>7</a>\u001b[0m image \u001b[39m=\u001b[39m cv\u001b[39m.\u001b[39mcvtColor(image, cv\u001b[39m.\u001b[39mCOLOR_BGR2RGB)\n\u001b[0;32m      <a href='vscode-notebook-cell:/c%3A/Users/katia/Downloads/matching/model/neural_network.ipynb#W5sZmlsZQ%3D%3D?line=7'>8</a>\u001b[0m image\u001b[39m.\u001b[39mflags\u001b[39m.\u001b[39mwriteable \u001b[39m=\u001b[39m \u001b[39mFalse\u001b[39;00m\n\u001b[1;32m----> <a href='vscode-notebook-cell:/c%3A/Users/katia/Downloads/matching/model/neural_network.ipynb#W5sZmlsZQ%3D%3D?line=8'>9</a>\u001b[0m results \u001b[39m=\u001b[39m hands\u001b[39m.\u001b[39;49mprocess(image)\n\u001b[0;32m     <a href='vscode-notebook-cell:/c%3A/Users/katia/Downloads/matching/model/neural_network.ipynb#W5sZmlsZQ%3D%3D?line=9'>10</a>\u001b[0m image\u001b[39m.\u001b[39mflags\u001b[39m.\u001b[39mwriteable \u001b[39m=\u001b[39m \u001b[39mTrue\u001b[39;00m\n\u001b[0;32m     <a href='vscode-notebook-cell:/c%3A/Users/katia/Downloads/matching/model/neural_network.ipynb#W5sZmlsZQ%3D%3D?line=10'>11</a>\u001b[0m \u001b[39mif\u001b[39;00m results\u001b[39m.\u001b[39mmulti_hand_landmarks \u001b[39mis\u001b[39;00m \u001b[39mnot\u001b[39;00m \u001b[39mNone\u001b[39;00m:\n",
      "File \u001b[1;32mc:\\Users\\katia\\AppData\\Local\\Programs\\Python\\Python311\\Lib\\site-packages\\mediapipe\\python\\solutions\\hands.py:153\u001b[0m, in \u001b[0;36mHands.process\u001b[1;34m(self, image)\u001b[0m\n\u001b[0;32m    132\u001b[0m \u001b[39mdef\u001b[39;00m \u001b[39mprocess\u001b[39m(\u001b[39mself\u001b[39m, image: np\u001b[39m.\u001b[39mndarray) \u001b[39m-\u001b[39m\u001b[39m>\u001b[39m NamedTuple:\n\u001b[0;32m    133\u001b[0m \u001b[39m  \u001b[39m\u001b[39m\"\"\"Processes an RGB image and returns the hand landmarks and handedness of each detected hand.\u001b[39;00m\n\u001b[0;32m    134\u001b[0m \n\u001b[0;32m    135\u001b[0m \u001b[39m  Args:\u001b[39;00m\n\u001b[1;32m   (...)\u001b[0m\n\u001b[0;32m    150\u001b[0m \u001b[39m         right hand) of the detected hand.\u001b[39;00m\n\u001b[0;32m    151\u001b[0m \u001b[39m  \"\"\"\u001b[39;00m\n\u001b[1;32m--> 153\u001b[0m   \u001b[39mreturn\u001b[39;00m \u001b[39msuper\u001b[39;49m()\u001b[39m.\u001b[39;49mprocess(input_data\u001b[39m=\u001b[39;49m{\u001b[39m'\u001b[39;49m\u001b[39mimage\u001b[39;49m\u001b[39m'\u001b[39;49m: image})\n",
      "File \u001b[1;32mc:\\Users\\katia\\AppData\\Local\\Programs\\Python\\Python311\\Lib\\site-packages\\mediapipe\\python\\solution_base.py:365\u001b[0m, in \u001b[0;36mSolutionBase.process\u001b[1;34m(self, input_data)\u001b[0m\n\u001b[0;32m    359\u001b[0m   \u001b[39melse\u001b[39;00m:\n\u001b[0;32m    360\u001b[0m     \u001b[39mself\u001b[39m\u001b[39m.\u001b[39m_graph\u001b[39m.\u001b[39madd_packet_to_input_stream(\n\u001b[0;32m    361\u001b[0m         stream\u001b[39m=\u001b[39mstream_name,\n\u001b[0;32m    362\u001b[0m         packet\u001b[39m=\u001b[39m\u001b[39mself\u001b[39m\u001b[39m.\u001b[39m_make_packet(input_stream_type,\n\u001b[0;32m    363\u001b[0m                                  data)\u001b[39m.\u001b[39mat(\u001b[39mself\u001b[39m\u001b[39m.\u001b[39m_simulated_timestamp))\n\u001b[1;32m--> 365\u001b[0m \u001b[39mself\u001b[39;49m\u001b[39m.\u001b[39;49m_graph\u001b[39m.\u001b[39;49mwait_until_idle()\n\u001b[0;32m    366\u001b[0m \u001b[39m# Create a NamedTuple object where the field names are mapping to the graph\u001b[39;00m\n\u001b[0;32m    367\u001b[0m \u001b[39m# output stream names.\u001b[39;00m\n\u001b[0;32m    368\u001b[0m solution_outputs \u001b[39m=\u001b[39m collections\u001b[39m.\u001b[39mnamedtuple(\n\u001b[0;32m    369\u001b[0m     \u001b[39m'\u001b[39m\u001b[39mSolutionOutputs\u001b[39m\u001b[39m'\u001b[39m, \u001b[39mself\u001b[39m\u001b[39m.\u001b[39m_output_stream_type_info\u001b[39m.\u001b[39mkeys())\n",
      "\u001b[1;31mKeyboardInterrupt\u001b[0m: "
     ]
    }
   ],
   "source": [
    "training_df,pre_process_landmark_train = obtain_landmarks('train_data', train_hands)\n",
    "test_df, pre_process_landmark_test = obtain_landmarks('test_data', test_hands)\n",
    "valid_df, pre_process_landmark_valid = obtain_landmarks('valid_data', valid_hands)"
   ]
  },
  {
   "cell_type": "code",
   "execution_count": null,
   "metadata": {},
   "outputs": [],
   "source": [
    "def assign_names(df,list):\n",
    "    column_names = (train_hands.columns[2:]).tolist()\n",
    "    landmark_name = []\n",
    "    for row,landmarks in enumerate(list):\n",
    "        landmark_name.append('landmark_{}'.format(row))\n",
    "    dataframe_columns = column_names + landmark_name\n",
    "    df.columns = dataframe_columns"
   ]
  },
  {
   "cell_type": "code",
   "execution_count": null,
   "metadata": {},
   "outputs": [],
   "source": [
    "assign_names(training_df, pre_process_landmark_train)\n",
    "assign_names(test_df, pre_process_landmark_test)\n",
    "assign_names(valid_df, pre_process_landmark_valid)\n"
   ]
  },
  {
   "cell_type": "code",
   "execution_count": null,
   "metadata": {},
   "outputs": [
    {
     "data": {
      "text/html": [
       "<div>\n",
       "<style scoped>\n",
       "    .dataframe tbody tr th:only-of-type {\n",
       "        vertical-align: middle;\n",
       "    }\n",
       "\n",
       "    .dataframe tbody tr th {\n",
       "        vertical-align: top;\n",
       "    }\n",
       "\n",
       "    .dataframe thead th {\n",
       "        text-align: right;\n",
       "    }\n",
       "</style>\n",
       "<table border=\"1\" class=\"dataframe\">\n",
       "  <thead>\n",
       "    <tr style=\"text-align: right;\">\n",
       "      <th></th>\n",
       "      <th>A</th>\n",
       "      <th>B</th>\n",
       "      <th>C</th>\n",
       "      <th>D</th>\n",
       "      <th>E</th>\n",
       "      <th>EYE</th>\n",
       "      <th>F</th>\n",
       "      <th>G</th>\n",
       "      <th>H</th>\n",
       "      <th>I</th>\n",
       "      <th>...</th>\n",
       "      <th>landmark_32</th>\n",
       "      <th>landmark_33</th>\n",
       "      <th>landmark_34</th>\n",
       "      <th>landmark_35</th>\n",
       "      <th>landmark_36</th>\n",
       "      <th>landmark_37</th>\n",
       "      <th>landmark_38</th>\n",
       "      <th>landmark_39</th>\n",
       "      <th>landmark_40</th>\n",
       "      <th>landmark_41</th>\n",
       "    </tr>\n",
       "  </thead>\n",
       "  <tbody>\n",
       "    <tr>\n",
       "      <th>0</th>\n",
       "      <td>0</td>\n",
       "      <td>0</td>\n",
       "      <td>0</td>\n",
       "      <td>0</td>\n",
       "      <td>0</td>\n",
       "      <td>0</td>\n",
       "      <td>0</td>\n",
       "      <td>0</td>\n",
       "      <td>0</td>\n",
       "      <td>0</td>\n",
       "      <td>...</td>\n",
       "      <td>0.642857</td>\n",
       "      <td>-0.123810</td>\n",
       "      <td>0.528571</td>\n",
       "      <td>-0.338095</td>\n",
       "      <td>0.757143</td>\n",
       "      <td>-0.414286</td>\n",
       "      <td>0.909524</td>\n",
       "      <td>-0.423810</td>\n",
       "      <td>1.000000</td>\n",
       "      <td>-0.447619</td>\n",
       "    </tr>\n",
       "    <tr>\n",
       "      <th>1</th>\n",
       "      <td>0</td>\n",
       "      <td>0</td>\n",
       "      <td>1</td>\n",
       "      <td>0</td>\n",
       "      <td>0</td>\n",
       "      <td>0</td>\n",
       "      <td>0</td>\n",
       "      <td>0</td>\n",
       "      <td>0</td>\n",
       "      <td>0</td>\n",
       "      <td>...</td>\n",
       "      <td>-0.900524</td>\n",
       "      <td>-0.780105</td>\n",
       "      <td>-0.230366</td>\n",
       "      <td>-0.607330</td>\n",
       "      <td>-0.439791</td>\n",
       "      <td>-0.795812</td>\n",
       "      <td>-0.628272</td>\n",
       "      <td>-0.821990</td>\n",
       "      <td>-0.780105</td>\n",
       "      <td>-0.795812</td>\n",
       "    </tr>\n",
       "    <tr>\n",
       "      <th>2</th>\n",
       "      <td>0</td>\n",
       "      <td>0</td>\n",
       "      <td>0</td>\n",
       "      <td>0</td>\n",
       "      <td>0</td>\n",
       "      <td>0</td>\n",
       "      <td>0</td>\n",
       "      <td>0</td>\n",
       "      <td>0</td>\n",
       "      <td>0</td>\n",
       "      <td>...</td>\n",
       "      <td>0.600000</td>\n",
       "      <td>-0.086667</td>\n",
       "      <td>0.606667</td>\n",
       "      <td>-0.046667</td>\n",
       "      <td>0.713333</td>\n",
       "      <td>-0.006667</td>\n",
       "      <td>0.660000</td>\n",
       "      <td>0.020000</td>\n",
       "      <td>0.580000</td>\n",
       "      <td>0.020000</td>\n",
       "    </tr>\n",
       "    <tr>\n",
       "      <th>3</th>\n",
       "      <td>0</td>\n",
       "      <td>0</td>\n",
       "      <td>0</td>\n",
       "      <td>0</td>\n",
       "      <td>0</td>\n",
       "      <td>0</td>\n",
       "      <td>0</td>\n",
       "      <td>0</td>\n",
       "      <td>0</td>\n",
       "      <td>0</td>\n",
       "      <td>...</td>\n",
       "      <td>-0.506757</td>\n",
       "      <td>-0.878378</td>\n",
       "      <td>0.202703</td>\n",
       "      <td>-0.689189</td>\n",
       "      <td>0.000000</td>\n",
       "      <td>-0.932432</td>\n",
       "      <td>-0.216216</td>\n",
       "      <td>-0.959459</td>\n",
       "      <td>-0.385135</td>\n",
       "      <td>-0.905405</td>\n",
       "    </tr>\n",
       "    <tr>\n",
       "      <th>4</th>\n",
       "      <td>0</td>\n",
       "      <td>0</td>\n",
       "      <td>0</td>\n",
       "      <td>0</td>\n",
       "      <td>0</td>\n",
       "      <td>0</td>\n",
       "      <td>0</td>\n",
       "      <td>0</td>\n",
       "      <td>0</td>\n",
       "      <td>0</td>\n",
       "      <td>...</td>\n",
       "      <td>0.608108</td>\n",
       "      <td>-0.216216</td>\n",
       "      <td>-0.418919</td>\n",
       "      <td>0.486486</td>\n",
       "      <td>-0.351351</td>\n",
       "      <td>0.554054</td>\n",
       "      <td>-0.351351</td>\n",
       "      <td>0.608108</td>\n",
       "      <td>-0.337838</td>\n",
       "      <td>0.648649</td>\n",
       "    </tr>\n",
       "    <tr>\n",
       "      <th>...</th>\n",
       "      <td>...</td>\n",
       "      <td>...</td>\n",
       "      <td>...</td>\n",
       "      <td>...</td>\n",
       "      <td>...</td>\n",
       "      <td>...</td>\n",
       "      <td>...</td>\n",
       "      <td>...</td>\n",
       "      <td>...</td>\n",
       "      <td>...</td>\n",
       "      <td>...</td>\n",
       "      <td>...</td>\n",
       "      <td>...</td>\n",
       "      <td>...</td>\n",
       "      <td>...</td>\n",
       "      <td>...</td>\n",
       "      <td>...</td>\n",
       "      <td>...</td>\n",
       "      <td>...</td>\n",
       "      <td>...</td>\n",
       "      <td>...</td>\n",
       "    </tr>\n",
       "    <tr>\n",
       "      <th>746</th>\n",
       "      <td>0</td>\n",
       "      <td>0</td>\n",
       "      <td>0</td>\n",
       "      <td>0</td>\n",
       "      <td>0</td>\n",
       "      <td>0</td>\n",
       "      <td>0</td>\n",
       "      <td>0</td>\n",
       "      <td>0</td>\n",
       "      <td>0</td>\n",
       "      <td>...</td>\n",
       "      <td>0.623711</td>\n",
       "      <td>-0.938144</td>\n",
       "      <td>-0.036082</td>\n",
       "      <td>-0.711340</td>\n",
       "      <td>0.118557</td>\n",
       "      <td>-0.922680</td>\n",
       "      <td>0.288660</td>\n",
       "      <td>-0.984536</td>\n",
       "      <td>0.453608</td>\n",
       "      <td>-0.974227</td>\n",
       "    </tr>\n",
       "    <tr>\n",
       "      <th>747</th>\n",
       "      <td>0</td>\n",
       "      <td>0</td>\n",
       "      <td>0</td>\n",
       "      <td>0</td>\n",
       "      <td>0</td>\n",
       "      <td>0</td>\n",
       "      <td>0</td>\n",
       "      <td>0</td>\n",
       "      <td>0</td>\n",
       "      <td>0</td>\n",
       "      <td>...</td>\n",
       "      <td>0.278607</td>\n",
       "      <td>-0.442786</td>\n",
       "      <td>0.407960</td>\n",
       "      <td>-0.278607</td>\n",
       "      <td>0.447761</td>\n",
       "      <td>-0.442786</td>\n",
       "      <td>0.398010</td>\n",
       "      <td>-0.412935</td>\n",
       "      <td>0.363184</td>\n",
       "      <td>-0.348259</td>\n",
       "    </tr>\n",
       "    <tr>\n",
       "      <th>748</th>\n",
       "      <td>0</td>\n",
       "      <td>0</td>\n",
       "      <td>0</td>\n",
       "      <td>0</td>\n",
       "      <td>0</td>\n",
       "      <td>0</td>\n",
       "      <td>1</td>\n",
       "      <td>0</td>\n",
       "      <td>0</td>\n",
       "      <td>0</td>\n",
       "      <td>...</td>\n",
       "      <td>-0.016854</td>\n",
       "      <td>-0.966292</td>\n",
       "      <td>0.168539</td>\n",
       "      <td>-0.331461</td>\n",
       "      <td>0.213483</td>\n",
       "      <td>-0.488764</td>\n",
       "      <td>0.230337</td>\n",
       "      <td>-0.623596</td>\n",
       "      <td>0.235955</td>\n",
       "      <td>-0.747191</td>\n",
       "    </tr>\n",
       "    <tr>\n",
       "      <th>749</th>\n",
       "      <td>0</td>\n",
       "      <td>0</td>\n",
       "      <td>0</td>\n",
       "      <td>0</td>\n",
       "      <td>0</td>\n",
       "      <td>0</td>\n",
       "      <td>0</td>\n",
       "      <td>0</td>\n",
       "      <td>0</td>\n",
       "      <td>0</td>\n",
       "      <td>...</td>\n",
       "      <td>0.276364</td>\n",
       "      <td>0.920000</td>\n",
       "      <td>0.247273</td>\n",
       "      <td>0.360000</td>\n",
       "      <td>0.283636</td>\n",
       "      <td>0.538182</td>\n",
       "      <td>0.254545</td>\n",
       "      <td>0.520000</td>\n",
       "      <td>0.210909</td>\n",
       "      <td>0.472727</td>\n",
       "    </tr>\n",
       "    <tr>\n",
       "      <th>750</th>\n",
       "      <td>0</td>\n",
       "      <td>0</td>\n",
       "      <td>0</td>\n",
       "      <td>0</td>\n",
       "      <td>0</td>\n",
       "      <td>0</td>\n",
       "      <td>0</td>\n",
       "      <td>0</td>\n",
       "      <td>0</td>\n",
       "      <td>0</td>\n",
       "      <td>...</td>\n",
       "      <td>-0.726804</td>\n",
       "      <td>-0.067010</td>\n",
       "      <td>-0.618557</td>\n",
       "      <td>0.020619</td>\n",
       "      <td>-0.804124</td>\n",
       "      <td>0.025773</td>\n",
       "      <td>-0.742268</td>\n",
       "      <td>0.051546</td>\n",
       "      <td>-0.654639</td>\n",
       "      <td>0.051546</td>\n",
       "    </tr>\n",
       "  </tbody>\n",
       "</table>\n",
       "<p>751 rows × 69 columns</p>\n",
       "</div>"
      ],
      "text/plain": [
       "      A   B   C   D   E   EYE   F   G   H   I  ...  landmark_32  landmark_33   \n",
       "0     0   0   0   0   0     0   0   0   0   0  ...     0.642857    -0.123810  \\\n",
       "1     0   0   1   0   0     0   0   0   0   0  ...    -0.900524    -0.780105   \n",
       "2     0   0   0   0   0     0   0   0   0   0  ...     0.600000    -0.086667   \n",
       "3     0   0   0   0   0     0   0   0   0   0  ...    -0.506757    -0.878378   \n",
       "4     0   0   0   0   0     0   0   0   0   0  ...     0.608108    -0.216216   \n",
       "..   ..  ..  ..  ..  ..   ...  ..  ..  ..  ..  ...          ...          ...   \n",
       "746   0   0   0   0   0     0   0   0   0   0  ...     0.623711    -0.938144   \n",
       "747   0   0   0   0   0     0   0   0   0   0  ...     0.278607    -0.442786   \n",
       "748   0   0   0   0   0     0   1   0   0   0  ...    -0.016854    -0.966292   \n",
       "749   0   0   0   0   0     0   0   0   0   0  ...     0.276364     0.920000   \n",
       "750   0   0   0   0   0     0   0   0   0   0  ...    -0.726804    -0.067010   \n",
       "\n",
       "     landmark_34  landmark_35  landmark_36  landmark_37  landmark_38   \n",
       "0       0.528571    -0.338095     0.757143    -0.414286     0.909524  \\\n",
       "1      -0.230366    -0.607330    -0.439791    -0.795812    -0.628272   \n",
       "2       0.606667    -0.046667     0.713333    -0.006667     0.660000   \n",
       "3       0.202703    -0.689189     0.000000    -0.932432    -0.216216   \n",
       "4      -0.418919     0.486486    -0.351351     0.554054    -0.351351   \n",
       "..           ...          ...          ...          ...          ...   \n",
       "746    -0.036082    -0.711340     0.118557    -0.922680     0.288660   \n",
       "747     0.407960    -0.278607     0.447761    -0.442786     0.398010   \n",
       "748     0.168539    -0.331461     0.213483    -0.488764     0.230337   \n",
       "749     0.247273     0.360000     0.283636     0.538182     0.254545   \n",
       "750    -0.618557     0.020619    -0.804124     0.025773    -0.742268   \n",
       "\n",
       "     landmark_39  landmark_40  landmark_41  \n",
       "0      -0.423810     1.000000    -0.447619  \n",
       "1      -0.821990    -0.780105    -0.795812  \n",
       "2       0.020000     0.580000     0.020000  \n",
       "3      -0.959459    -0.385135    -0.905405  \n",
       "4       0.608108    -0.337838     0.648649  \n",
       "..           ...          ...          ...  \n",
       "746    -0.984536     0.453608    -0.974227  \n",
       "747    -0.412935     0.363184    -0.348259  \n",
       "748    -0.623596     0.235955    -0.747191  \n",
       "749     0.520000     0.210909     0.472727  \n",
       "750     0.051546    -0.654639     0.051546  \n",
       "\n",
       "[751 rows x 69 columns]"
      ]
     },
     "execution_count": 95,
     "metadata": {},
     "output_type": "execute_result"
    }
   ],
   "source": [
    "training_df"
   ]
  },
  {
   "cell_type": "code",
   "execution_count": null,
   "metadata": {},
   "outputs": [],
   "source": [
    "import tensorflow as tf\n",
    "from sklearn.model_selection import train_test_split"
   ]
  },
  {
   "cell_type": "code",
   "execution_count": null,
   "metadata": {},
   "outputs": [],
   "source": [
    "NUM_CLASSES = 27\n",
    "MODEL_PATH_SAVE = './HandClassifier/keypoint_classifier.hdf5'\n",
    "TFLITE_PATH_SAVE = './HandClassifier/keypoint_classifier.tflite'"
   ]
  },
  {
   "cell_type": "code",
   "execution_count": null,
   "metadata": {},
   "outputs": [],
   "source": [
    "#Construcción del data entrenamiento X y Y\n",
    "y_train = pd.DataFrame(training_df.iloc[:, :27])\n",
    "X_train = pd.DataFrame(training_df.iloc[:, 27:])\n",
    "y_test = pd.DataFrame(test_df.iloc[:, :27])\n",
    "X_test = pd.DataFrame(test_df.iloc[:, 27:])\n",
    "y_valid = pd.DataFrame(valid_df.iloc[:, :27])\n",
    "X_valid = pd.DataFrame(valid_df.iloc[:, 27:])"
   ]
  },
  {
   "cell_type": "code",
   "execution_count": null,
   "metadata": {},
   "outputs": [],
   "source": [
    "model = tf.keras.models.Sequential([\n",
    "    tf.keras.layers.Input((42, )),\n",
    "    tf.keras.layers.Dense(280, activation='relu'),\n",
    "    tf.keras.layers.Dropout(0.2),\n",
    "    tf.keras.layers.Dense(140, activation='relu'),\n",
    "    tf.keras.layers.Dense(NUM_CLASSES, activation='softmax')\n",
    "])\n"
   ]
  },
  {
   "cell_type": "code",
   "execution_count": null,
   "metadata": {},
   "outputs": [
    {
     "name": "stdout",
     "output_type": "stream",
     "text": [
      "Model: \"sequential_5\"\n",
      "_________________________________________________________________\n",
      " Layer (type)                Output Shape              Param #   \n",
      "=================================================================\n",
      " dense_15 (Dense)            (None, 280)               12040     \n",
      "                                                                 \n",
      " dropout_5 (Dropout)         (None, 280)               0         \n",
      "                                                                 \n",
      " dense_16 (Dense)            (None, 140)               39340     \n",
      "                                                                 \n",
      " dense_17 (Dense)            (None, 26)                3666      \n",
      "                                                                 \n",
      "=================================================================\n",
      "Total params: 55,046\n",
      "Trainable params: 55,046\n",
      "Non-trainable params: 0\n",
      "_________________________________________________________________\n"
     ]
    }
   ],
   "source": [
    "model.summary()"
   ]
  },
  {
   "cell_type": "code",
   "execution_count": null,
   "metadata": {},
   "outputs": [],
   "source": [
    "# Model checkpoint callback\n",
    "cp_callback = tf.keras.callbacks.ModelCheckpoint(\n",
    "    MODEL_PATH_SAVE, verbose=1, save_weights_only=False)\n",
    "# Callback for early stopping\n",
    "es_callback = tf.keras.callbacks.EarlyStopping(patience=20, verbose=1)"
   ]
  },
  {
   "cell_type": "code",
   "execution_count": null,
   "metadata": {},
   "outputs": [],
   "source": [
    "# Model compilation\n",
    "model.compile(\n",
    "    optimizer='adam',\n",
    "    loss='categorical_crossentropy',\n",
    "    metrics=tf.metrics.CategoricalAccuracy()\n",
    ")"
   ]
  },
  {
   "cell_type": "code",
   "execution_count": null,
   "metadata": {},
   "outputs": [
    {
     "name": "stdout",
     "output_type": "stream",
     "text": [
      "Epoch 1/70\n"
     ]
    },
    {
     "ename": "ValueError",
     "evalue": "in user code:\n\n    File \"c:\\Users\\katia\\AppData\\Local\\Programs\\Python\\Python311\\Lib\\site-packages\\keras\\engine\\training.py\", line 1284, in train_function  *\n        return step_function(self, iterator)\n    File \"c:\\Users\\katia\\AppData\\Local\\Programs\\Python\\Python311\\Lib\\site-packages\\keras\\engine\\training.py\", line 1268, in step_function  **\n        outputs = model.distribute_strategy.run(run_step, args=(data,))\n    File \"c:\\Users\\katia\\AppData\\Local\\Programs\\Python\\Python311\\Lib\\site-packages\\keras\\engine\\training.py\", line 1249, in run_step  **\n        outputs = model.train_step(data)\n    File \"c:\\Users\\katia\\AppData\\Local\\Programs\\Python\\Python311\\Lib\\site-packages\\keras\\engine\\training.py\", line 1050, in train_step\n        y_pred = self(x, training=True)\n    File \"c:\\Users\\katia\\AppData\\Local\\Programs\\Python\\Python311\\Lib\\site-packages\\keras\\utils\\traceback_utils.py\", line 70, in error_handler\n        raise e.with_traceback(filtered_tb) from None\n    File \"c:\\Users\\katia\\AppData\\Local\\Programs\\Python\\Python311\\Lib\\site-packages\\keras\\engine\\input_spec.py\", line 298, in assert_input_compatibility\n        raise ValueError(\n\n    ValueError: Input 0 of layer \"sequential_5\" is incompatible with the layer: expected shape=(None, 42), found shape=(None, 43)\n",
     "output_type": "error",
     "traceback": [
      "\u001b[1;31m---------------------------------------------------------------------------\u001b[0m",
      "\u001b[1;31mValueError\u001b[0m                                Traceback (most recent call last)",
      "\u001b[1;32mc:\\Users\\katia\\Downloads\\matching\\model\\neural_network.ipynb Cell 16\u001b[0m line \u001b[0;36m1\n\u001b[1;32m----> <a href='vscode-notebook-cell:/c%3A/Users/katia/Downloads/matching/model/neural_network.ipynb#X21sZmlsZQ%3D%3D?line=0'>1</a>\u001b[0m history \u001b[39m=\u001b[39m model\u001b[39m.\u001b[39;49mfit(\n\u001b[0;32m      <a href='vscode-notebook-cell:/c%3A/Users/katia/Downloads/matching/model/neural_network.ipynb#X21sZmlsZQ%3D%3D?line=1'>2</a>\u001b[0m     X_train,\n\u001b[0;32m      <a href='vscode-notebook-cell:/c%3A/Users/katia/Downloads/matching/model/neural_network.ipynb#X21sZmlsZQ%3D%3D?line=2'>3</a>\u001b[0m     y_train,\n\u001b[0;32m      <a href='vscode-notebook-cell:/c%3A/Users/katia/Downloads/matching/model/neural_network.ipynb#X21sZmlsZQ%3D%3D?line=3'>4</a>\u001b[0m     epochs\u001b[39m=\u001b[39;49m\u001b[39m70\u001b[39;49m,\n\u001b[0;32m      <a href='vscode-notebook-cell:/c%3A/Users/katia/Downloads/matching/model/neural_network.ipynb#X21sZmlsZQ%3D%3D?line=4'>5</a>\u001b[0m     batch_size\u001b[39m=\u001b[39;49m\u001b[39m256\u001b[39;49m,\n\u001b[0;32m      <a href='vscode-notebook-cell:/c%3A/Users/katia/Downloads/matching/model/neural_network.ipynb#X21sZmlsZQ%3D%3D?line=5'>6</a>\u001b[0m     validation_data\u001b[39m=\u001b[39;49m(X_valid, y_valid),\n\u001b[0;32m      <a href='vscode-notebook-cell:/c%3A/Users/katia/Downloads/matching/model/neural_network.ipynb#X21sZmlsZQ%3D%3D?line=6'>7</a>\u001b[0m     callbacks\u001b[39m=\u001b[39;49m[cp_callback, es_callback]\n\u001b[0;32m      <a href='vscode-notebook-cell:/c%3A/Users/katia/Downloads/matching/model/neural_network.ipynb#X21sZmlsZQ%3D%3D?line=7'>8</a>\u001b[0m )\n",
      "File \u001b[1;32mc:\\Users\\katia\\AppData\\Local\\Programs\\Python\\Python311\\Lib\\site-packages\\keras\\utils\\traceback_utils.py:70\u001b[0m, in \u001b[0;36mfilter_traceback.<locals>.error_handler\u001b[1;34m(*args, **kwargs)\u001b[0m\n\u001b[0;32m     67\u001b[0m     filtered_tb \u001b[39m=\u001b[39m _process_traceback_frames(e\u001b[39m.\u001b[39m__traceback__)\n\u001b[0;32m     68\u001b[0m     \u001b[39m# To get the full stack trace, call:\u001b[39;00m\n\u001b[0;32m     69\u001b[0m     \u001b[39m# `tf.debugging.disable_traceback_filtering()`\u001b[39;00m\n\u001b[1;32m---> 70\u001b[0m     \u001b[39mraise\u001b[39;00m e\u001b[39m.\u001b[39mwith_traceback(filtered_tb) \u001b[39mfrom\u001b[39;00m \u001b[39mNone\u001b[39;00m\n\u001b[0;32m     71\u001b[0m \u001b[39mfinally\u001b[39;00m:\n\u001b[0;32m     72\u001b[0m     \u001b[39mdel\u001b[39;00m filtered_tb\n",
      "File \u001b[1;32m~\\AppData\\Local\\Temp\\__autograph_generated_file69ht7oxw.py:15\u001b[0m, in \u001b[0;36mouter_factory.<locals>.inner_factory.<locals>.tf__train_function\u001b[1;34m(iterator)\u001b[0m\n\u001b[0;32m     13\u001b[0m \u001b[39mtry\u001b[39;00m:\n\u001b[0;32m     14\u001b[0m     do_return \u001b[39m=\u001b[39m \u001b[39mTrue\u001b[39;00m\n\u001b[1;32m---> 15\u001b[0m     retval_ \u001b[39m=\u001b[39m ag__\u001b[39m.\u001b[39mconverted_call(ag__\u001b[39m.\u001b[39mld(step_function), (ag__\u001b[39m.\u001b[39mld(\u001b[39mself\u001b[39m), ag__\u001b[39m.\u001b[39mld(iterator)), \u001b[39mNone\u001b[39;00m, fscope)\n\u001b[0;32m     16\u001b[0m \u001b[39mexcept\u001b[39;00m:\n\u001b[0;32m     17\u001b[0m     do_return \u001b[39m=\u001b[39m \u001b[39mFalse\u001b[39;00m\n",
      "\u001b[1;31mValueError\u001b[0m: in user code:\n\n    File \"c:\\Users\\katia\\AppData\\Local\\Programs\\Python\\Python311\\Lib\\site-packages\\keras\\engine\\training.py\", line 1284, in train_function  *\n        return step_function(self, iterator)\n    File \"c:\\Users\\katia\\AppData\\Local\\Programs\\Python\\Python311\\Lib\\site-packages\\keras\\engine\\training.py\", line 1268, in step_function  **\n        outputs = model.distribute_strategy.run(run_step, args=(data,))\n    File \"c:\\Users\\katia\\AppData\\Local\\Programs\\Python\\Python311\\Lib\\site-packages\\keras\\engine\\training.py\", line 1249, in run_step  **\n        outputs = model.train_step(data)\n    File \"c:\\Users\\katia\\AppData\\Local\\Programs\\Python\\Python311\\Lib\\site-packages\\keras\\engine\\training.py\", line 1050, in train_step\n        y_pred = self(x, training=True)\n    File \"c:\\Users\\katia\\AppData\\Local\\Programs\\Python\\Python311\\Lib\\site-packages\\keras\\utils\\traceback_utils.py\", line 70, in error_handler\n        raise e.with_traceback(filtered_tb) from None\n    File \"c:\\Users\\katia\\AppData\\Local\\Programs\\Python\\Python311\\Lib\\site-packages\\keras\\engine\\input_spec.py\", line 298, in assert_input_compatibility\n        raise ValueError(\n\n    ValueError: Input 0 of layer \"sequential_5\" is incompatible with the layer: expected shape=(None, 42), found shape=(None, 43)\n"
     ]
    }
   ],
   "source": [
    "history = model.fit(\n",
    "    X_train,\n",
    "    y_train,\n",
    "    epochs=70,\n",
    "    batch_size=256,\n",
    "    validation_data=(X_valid, y_valid),\n",
    "    callbacks=[cp_callback, es_callback]\n",
    ")"
   ]
  },
  {
   "cell_type": "code",
   "execution_count": null,
   "metadata": {},
   "outputs": [
    {
     "name": "stdout",
     "output_type": "stream",
     "text": [
      "1/1 [==============================] - 0s 24ms/step - loss: 0.4199 - categorical_accuracy: 0.8739\n"
     ]
    }
   ],
   "source": [
    "# Evaluación del modelo\n",
    "val_loss, val_acc = model.evaluate(X_test, y_test, batch_size=128)"
   ]
  },
  {
   "cell_type": "code",
   "execution_count": null,
   "metadata": {},
   "outputs": [
    {
     "data": {
      "text/plain": [
       "dict_keys(['loss', 'categorical_accuracy', 'val_loss', 'val_categorical_accuracy'])"
      ]
     },
     "execution_count": 64,
     "metadata": {},
     "output_type": "execute_result"
    }
   ],
   "source": [
    "import matplotlib.pyplot as plt\n",
    "\n",
    "history_dict = history.history\n",
    "history_dict.keys()"
   ]
  },
  {
   "cell_type": "code",
   "execution_count": null,
   "metadata": {},
   "outputs": [
    {
     "data": {
      "image/png": "[encoded data removed]",
      "text/plain": [
       "<Figure size 640x480 with 1 Axes>"
      ]
     },
     "metadata": {},
     "output_type": "display_data"
    }
   ],
   "source": [
    "\n",
    "acc = history_dict['categorical_accuracy']\n",
    "val_acc = history_dict['val_categorical_accuracy']\n",
    "loss = history_dict['loss']\n",
    "val_loss = history_dict['val_loss']\n",
    "\n",
    "epochs = range(1, len(acc) + 1)\n",
    "\n",
    "# \"bo\" is for \"blue dot\"\n",
    "plt.plot(epochs, loss, 'bo', label='Training loss')\n",
    "# b is for \"solid blue line\"\n",
    "plt.plot(epochs, val_loss, 'b', label='Validation loss')\n",
    "plt.title('Training and validation loss')\n",
    "plt.xlabel('Epochs')\n",
    "plt.ylabel('Loss')\n",
    "plt.legend()\n",
    "\n",
    "plt.show()\n"
   ]
  },
  {
   "cell_type": "code",
   "execution_count": null,
   "metadata": {},
   "outputs": [
    {
     "data": {
      "image/png": "[encoded data removed]",
      "text/plain": [
       "<Figure size 640x480 with 1 Axes>"
      ]
     },
     "metadata": {},
     "output_type": "display_data"
    }
   ],
   "source": [
    "plt.plot(epochs, acc, 'bo', label='Training acc')\n",
    "plt.plot(epochs, val_acc, 'b', label='Validation acc')\n",
    "plt.title('Training and validation accuracy')\n",
    "plt.xlabel('Epochs')\n",
    "plt.ylabel('Precisión')\n",
    "plt.legend(loc='lower right')\n",
    "\n",
    "plt.show()\n"
   ]
  },
  {
   "cell_type": "code",
   "execution_count": null,
   "metadata": {},
   "outputs": [],
   "source": [
    "# Loading the saved model\n",
    "model = tf.keras.models.load_model(MODEL_PATH_SAVE)"
   ]
  },
  {
   "cell_type": "code",
   "execution_count": null,
   "metadata": {},
   "outputs": [],
   "source": [
    "from sklearn.metrics import classification_report\n",
    "from  sklearn.metrics import precision_recall_fscore_support\n",
    "\n",
    "def pandas_classification_report(y_true, y_pred):\n",
    "    metrics_summary = precision_recall_fscore_support(\n",
    "            y_true=y_true, \n",
    "            y_pred=y_pred)\n",
    "    \n",
    "    avg = list(precision_recall_fscore_support(\n",
    "            y_true=y_true, \n",
    "            y_pred=y_pred,\n",
    "            average='weighted'))\n",
    "\n",
    "    metrics_sum_index = ['precision', 'recall', 'f1-score', 'support']\n",
    "    class_report_df = pd.DataFrame(\n",
    "        list(metrics_summary),\n",
    "        index=metrics_sum_index)\n",
    "    \n",
    "    support = class_report_df.loc['support']\n",
    "    total = support.sum() \n",
    "    avg[-1] = total\n",
    "    \n",
    "    class_report_df['avg / total'] = avg\n",
    "\n",
    "    return class_report_df.T"
   ]
  },
  {
   "cell_type": "code",
   "execution_count": null,
   "metadata": {},
   "outputs": [
    {
     "name": "stdout",
     "output_type": "stream",
     "text": [
      "4/4 [==============================] - 0s 1ms/step\n"
     ]
    },
    {
     "data": {
      "image/png": "[encoded data removed]",
      "text/plain": [
       "<Figure size 700x600 with 2 Axes>"
      ]
     },
     "metadata": {},
     "output_type": "display_data"
    },
    {
     "name": "stdout",
     "output_type": "stream",
     "text": [
      "Classification Report\n",
      "              precision    recall  f1-score   support\n",
      "\n",
      "           0       1.00      0.69      0.82        13\n",
      "           1       1.00      1.00      1.00         5\n",
      "           2       0.86      1.00      0.92         6\n",
      "           3       1.00      1.00      1.00         3\n",
      "           4       1.00      0.89      0.94         9\n",
      "           5       1.00      0.70      0.82        10\n",
      "           6       1.00      1.00      1.00         3\n",
      "           7       0.80      1.00      0.89         4\n",
      "           8       1.00      0.50      0.67         2\n",
      "           9       1.00      1.00      1.00         2\n",
      "          10       1.00      1.00      1.00         3\n",
      "          11       1.00      1.00      1.00         2\n",
      "          12       0.89      1.00      0.94         8\n",
      "          13       1.00      1.00      1.00         5\n",
      "          14       0.67      1.00      0.80         2\n",
      "          15       0.80      1.00      0.89         4\n",
      "          16       0.75      1.00      0.86         3\n",
      "          17       1.00      1.00      1.00         3\n",
      "          18       0.88      1.00      0.93         7\n",
      "          19       0.67      0.67      0.67         3\n",
      "          20       0.86      0.86      0.86         7\n",
      "          21       0.75      0.75      0.75         4\n",
      "          22       0.75      1.00      0.86         3\n",
      "          23       1.00      0.50      0.67         2\n",
      "          24       0.25      0.33      0.29         3\n",
      "          25       0.75      1.00      0.86         3\n",
      "\n",
      "    accuracy                           0.87       119\n",
      "   macro avg       0.87      0.88      0.86       119\n",
      "weighted avg       0.90      0.87      0.87       119\n",
      "\n"
     ]
    }
   ],
   "source": [
    "import numpy as np\n",
    "import seaborn as sns\n",
    "import matplotlib.pyplot as plt\n",
    "from sklearn.metrics import confusion_matrix, classification_report\n",
    "\n",
    "def print_confusion_matrix(y_true, y_pred, report=True):\n",
    "    labels = sorted(list(set(y_true)))\n",
    "    cmx_data = confusion_matrix(y_true, y_pred, labels=labels)\n",
    "    \n",
    "    df_cmx = pd.DataFrame(cmx_data, index=labels, columns=labels)\n",
    " \n",
    "    fig, ax = plt.subplots(figsize=(7, 6))\n",
    "    sns.heatmap(df_cmx, annot=True, fmt='g' ,square=False)\n",
    "    ax.set_ylim(len(set(y_true)), 0)\n",
    "    plt.show()\n",
    "    \n",
    "    if report:\n",
    "        print('Classification Report')\n",
    "        print(classification_report(y_true, y_pred))\n",
    "\n",
    "y_test_true = np.array(y_test)\n",
    "Y_pred = model.predict(X_test)\n",
    "y_pred = np.argmax(Y_pred, axis=1)\n",
    "y_true = np.argmax(y_test_true, axis=1)\n",
    "print_confusion_matrix(y_true, y_pred)"
   ]
  },
  {
   "cell_type": "code",
   "execution_count": null,
   "metadata": {},
   "outputs": [],
   "source": [
    "# Guardar como modelo dedicado para interferencias\n",
    "model.save(MODEL_PATH_SAVE, include_optimizer=False)"
   ]
  },
  {
   "cell_type": "code",
   "execution_count": null,
   "metadata": {},
   "outputs": [
    {
     "name": "stderr",
     "output_type": "stream",
     "text": [
      "WARNING:absl:Found untraced functions such as _update_step_xla while saving (showing 1 of 1). These functions will not be directly callable after loading.\n"
     ]
    },
    {
     "name": "stdout",
     "output_type": "stream",
     "text": [
      "INFO:tensorflow:Assets written to: C:\\Users\\katia\\AppData\\Local\\Temp\\tmpgi0o_xso\\assets\n"
     ]
    },
    {
     "name": "stderr",
     "output_type": "stream",
     "text": [
      "INFO:tensorflow:Assets written to: C:\\Users\\katia\\AppData\\Local\\Temp\\tmpgi0o_xso\\assets\n"
     ]
    },
    {
     "data": {
      "text/plain": [
       "58960"
      ]
     },
     "execution_count": 71,
     "metadata": {},
     "output_type": "execute_result"
    }
   ],
   "source": [
    "#Convertir a modelo TF-LITE\n",
    "\n",
    "converter = tf.lite.TFLiteConverter.from_keras_model(model)\n",
    "converter.optimizations = [tf.lite.Optimize.DEFAULT]\n",
    "tflite_quantized_model = converter.convert()\n",
    "\n",
    "open(TFLITE_PATH_SAVE, 'wb').write(tflite_quantized_model)\n",
    "\n"
   ]
  },
  {
   "attachments": {},
   "cell_type": "markdown",
   "metadata": {},
   "source": [
    "## Prueba de Interferencia"
   ]
  },
  {
   "cell_type": "code",
   "execution_count": null,
   "metadata": {},
   "outputs": [],
   "source": [
    "interpreter = tf.lite.Interpreter(model_path=TFLITE_PATH_SAVE)\n",
    "interpreter.allocate_tensors()"
   ]
  },
  {
   "cell_type": "code",
   "execution_count": null,
   "metadata": {},
   "outputs": [],
   "source": [
    "# Obtener I / O tensor\n",
    "input_details = interpreter.get_input_details()\n",
    "output_details = interpreter.get_output_details()"
   ]
  },
  {
   "cell_type": "code",
   "execution_count": null,
   "metadata": {},
   "outputs": [],
   "source": [
    "interpreter.set_tensor(input_details[0]['index'], np.array([X_test.iloc[0]], dtype='float32'))"
   ]
  },
  {
   "cell_type": "code",
   "execution_count": null,
   "metadata": {},
   "outputs": [
    {
     "name": "stdout",
     "output_type": "stream",
     "text": [
      "CPU times: total: 0 ns\n",
      "Wall time: 0 ns\n"
     ]
    }
   ],
   "source": [
    "%%time\n",
    "# Implementación de la interferencia\n",
    "interpreter.invoke()\n",
    "tflite_results = interpreter.get_tensor(output_details[0]['index'])"
   ]
  },
  {
   "cell_type": "code",
   "execution_count": null,
   "metadata": {},
   "outputs": [
    {
     "name": "stdout",
     "output_type": "stream",
     "text": [
      "[2.8285972e-06 9.5662987e-01 1.6047291e-02 1.4033568e-05 1.2972717e-03\n",
      " 2.5464033e-03 8.2758861e-03 3.5864943e-08 1.4103810e-08 3.3533897e-06\n",
      " 4.7360067e-04 1.4484253e-06 9.3581120e-06 9.5264570e-09 5.1620765e-07\n",
      " 5.3121876e-03 3.0696090e-09 1.0785586e-06 1.3261072e-04 9.6778729e-10\n",
      " 2.1901096e-03 5.2297600e-03 5.1469490e-04 1.2456172e-03 4.9811774e-08\n",
      " 7.2091505e-05]\n",
      "1\n"
     ]
    }
   ],
   "source": [
    "print(np.squeeze(tflite_results))\n",
    "print(np.argmax(np.squeeze(tflite_results)))"
   ]
  }
 ],
 "metadata": {
  "kernelspec": {
   "display_name": "Python 3",
   "language": "python",
   "name": "python3"
  },
  "language_info": {
   "codemirror_mode": {
    "name": "ipython",
    "version": 3
   },
   "file_extension": ".py",
   "mimetype": "text/x-python",
   "name": "python",
   "nbconvert_exporter": "python",
   "pygments_lexer": "ipython3",
   "version": "3.11.3"
  },
  "orig_nbformat": 4
 },
 "nbformat": 4,
 "nbformat_minor": 2
}
